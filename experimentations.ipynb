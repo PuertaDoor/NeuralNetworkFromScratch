{
 "cells": [
  {
   "cell_type": "markdown",
   "id": "62d97afc-9f61-44f5-a510-878f81e7b583",
   "metadata": {},
   "source": [
    "IL FAUDRA BIEN FAIRE DEUX OU TROIS EXPERIMENTATIONS EN PLUS (AVEC COURBES LOSS/ACCURACY), GENRE COMPARER LES LOSS ET LES ARCHITECTURES ENTRE ELLES\n",
    "ET BIEN PRESENTER LA PARTIE PCA, ET METTRE DES FORMULES MATHEMATIQUES OU IL FAUT, SINON LES EXPLICATIONS SERONT CLAIRES EN ELLES-MEMES"
   ]
  },
  {
   "cell_type": "code",
   "execution_count": 1,
   "id": "5c044b43-7d5c-41f8-8f5e-8ada002deead",
   "metadata": {},
   "outputs": [],
   "source": [
    "from preprocessing import *\n",
    "from Activation import *\n",
    "from Loss import *\n",
    "from Module import *\n",
    "from Network import *\n",
    "from mltools import *"
   ]
  },
  {
   "cell_type": "markdown",
   "id": "1a1f8b9f-f597-48ea-a3d5-d8cd9e5d2d92",
   "metadata": {},
   "source": [
    "# CHARGEMENT DES DONNÉES ET PRE-PROCESSING"
   ]
  },
  {
   "cell_type": "markdown",
   "id": "ed3668d8-b713-49e6-9adb-9ebfee8bdbff",
   "metadata": {},
   "source": [
    "## RÉGRESSION"
   ]
  },
  {
   "cell_type": "code",
   "execution_count": 2,
   "id": "34d907c9-45db-4040-b6ad-ca97f92125fa",
   "metadata": {},
   "outputs": [
    {
     "name": "stdout",
     "output_type": "stream",
     "text": [
      "Raw example\n",
      "[19 'female' 27.9 0 'yes' 'southwest' 16884.924]\n",
      "\n",
      "10 first ages before normalization\n",
      "[19 18 28 33 32 31 46 37 37 60]\n",
      "\n",
      "10 first ages after normalization\n",
      "[0.021739130434782608 0.0 0.21739130434782608 0.32608695652173914\n",
      " 0.30434782608695654 0.2826086956521739 0.6086956521739131\n",
      " 0.41304347826086957 0.41304347826086957 0.9130434782608695]\n",
      "\n",
      "10 first sexes before onehot processing :\n",
      "['female' 'male' 'male' 'male' 'male' 'female' 'female' 'female' 'male'\n",
      " 'female']\n",
      "\n",
      "10 first sexes after onehot processing :\n",
      "[0.0 1.0 1.0 1.0 1.0 0.0 0.0 0.0 1.0 0.0]\n",
      "\n",
      "10 first CMIs before normalization\n",
      "[27.9 33.77 33.0 22.705 28.88 25.74 33.44 27.74 29.83 25.84]\n",
      "\n",
      "10 first CMIs after normalization\n",
      "[0.3212267958030669 0.479149852031208 0.4584342211460855\n",
      " 0.18146354587032545 0.3475921442023136 0.26311541565778845\n",
      " 0.47027172450901256 0.3169222491256389 0.37315039009954254\n",
      " 0.265805757331181]\n",
      "\n",
      "10 first children numbers before normalization\n",
      "[0 1 3 0 0 0 1 3 2 0]\n",
      "\n",
      "10 first children numbers after normalization\n",
      "[0.0 0.2 0.6 0.0 0.0 0.0 0.2 0.6 0.4 0.0]\n",
      "\n",
      "10 first smoking habits before onehot processing :\n",
      "['yes' 'no' 'no' 'no' 'no' 'no' 'no' 'no' 'no' 'no']\n",
      "\n",
      "10 first smoking habits after onehot processing :\n",
      "[1.0 0.0 0.0 0.0 0.0 0.0 0.0 0.0 0.0 0.0]\n",
      "\n",
      "10 first regions of living before encoding :\n",
      "['southwest' 'southeast' 'southeast' 'northwest' 'northwest' 'southeast'\n",
      " 'southeast' 'northwest' 'northeast' 'northwest']\n",
      "\n",
      "10 first regions of living after encoding :\n",
      "[1.0 0.6666666666666666 0.6666666666666666 0.3333333333333333\n",
      " 0.3333333333333333 0.6666666666666666 0.6666666666666666\n",
      " 0.3333333333333333 0.0 0.3333333333333333]\n",
      "\n",
      "10 first medical costs before normalization :\n",
      "[16884.924 1725.5523 4449.462 21984.47061 3866.8552 3756.6216 8240.5896\n",
      " 7281.5056 6406.4107 28923.13692]\n",
      "\n",
      "10 first medical costs after normalization :\n",
      "[0.25161075660777127 0.009635951037912947 0.05311516199012881\n",
      " 0.3330100272285438 0.04381555710256758 0.042056001729486675\n",
      " 0.11362936944244184 0.09832041277736042 0.08435209519315114\n",
      " 0.44376543744626257]\n"
     ]
    }
   ],
   "source": [
    "reg = pd.read_csv(\"datasets/insurance.csv\").to_numpy()\n",
    "\n",
    "print(\"Raw example\")\n",
    "print(reg[0])\n",
    "\n",
    "# NORMALIZATION OF AGES\n",
    "print(\"\\n10 first ages before normalization\")\n",
    "print(reg[:10,0])\n",
    "reg[:,0] = normalize(reg[:,0])\n",
    "print(\"\\n10 first ages after normalization\")\n",
    "print(reg[:10,0])\n",
    "\n",
    "# ONE HOT SEXES\n",
    "print(\"\\n10 first sexes before onehot processing :\")\n",
    "print(reg[:10,1])\n",
    "reg[:,1] = onehot(reg[:,1])\n",
    "print(\"\\n10 first sexes after onehot processing :\")\n",
    "print(reg[:10,1])\n",
    "\n",
    "# CMI NORMALIZATION\n",
    "print(\"\\n10 first CMIs before normalization\")\n",
    "print(reg[:10,2])\n",
    "reg[:,2] = normalize(reg[:,2])\n",
    "print(\"\\n10 first CMIs after normalization\")\n",
    "print(reg[:10,2])\n",
    "\n",
    "# CHILDREN NUMBER NORM\n",
    "print(\"\\n10 first children numbers before normalization\")\n",
    "print(reg[:10,3])\n",
    "reg[:,3] = normalize(reg[:,3])\n",
    "print(\"\\n10 first children numbers after normalization\")\n",
    "print(reg[:10,3])\n",
    "\n",
    "# ONE HOT SMOKERS\n",
    "print(\"\\n10 first smoking habits before onehot processing :\")\n",
    "print(reg[:10,4])\n",
    "reg[:,4] = onehot(reg[:,4])\n",
    "print(\"\\n10 first smoking habits after onehot processing :\")\n",
    "print(reg[:10,4])\n",
    "\n",
    "# ENCODING REGION OF LIVING\n",
    "print(\"\\n10 first regions of living before encoding :\")\n",
    "print(reg[:10,5])\n",
    "reg[:,5] = onehot(reg[:,5])\n",
    "print(\"\\n10 first regions of living after encoding :\")\n",
    "print(reg[:10,5])\n",
    "\n",
    "# MEDICAL COSTS (VALUES TO PREDICT)\n",
    "print(\"\\n10 first medical costs before normalization :\")\n",
    "print(reg[:10,6])\n",
    "reg[:,6] = normalize(reg[:,6])\n",
    "print(\"\\n10 first medical costs after normalization :\")\n",
    "print(reg[:10,6])"
   ]
  },
  {
   "cell_type": "markdown",
   "id": "4db637f1-c50b-4aaf-99ec-6fedeb2bd07e",
   "metadata": {},
   "source": [
    "## CLASSIFICATION"
   ]
  },
  {
   "cell_type": "markdown",
   "id": "a4b6c8a7-da93-4a05-be4d-09ef7a37a89a",
   "metadata": {},
   "source": [
    "### USPS"
   ]
  },
  {
   "cell_type": "code",
   "execution_count": 3,
   "id": "5068ada5-3184-439b-a738-f164c58f6efc",
   "metadata": {},
   "outputs": [],
   "source": [
    "def load(filename):\n",
    "    f=open(filename,'r')\n",
    "    s = f.readline() # virer la premiere ligne\n",
    "    X = np.array([[float(d) for d in lig.split()] for lig in f if len(lig)>10])\n",
    "    Y = X[:,0] # premiere colonne\n",
    "    X = X[:,1:]\n",
    "    f.close()\n",
    "    return X,Y\n",
    "\n",
    "uspsX_train,uspsY_train = load('datasets/usps_train.txt')\n",
    "uspsX_test,uspsY_test = load('datasets/usps_test.txt')"
   ]
  },
  {
   "cell_type": "markdown",
   "id": "29adbb75-fd3a-4841-8275-403283a3d1a9",
   "metadata": {},
   "source": [
    "# TESTS ET EXPERIMENTATIONS"
   ]
  },
  {
   "cell_type": "markdown",
   "id": "ecc564bf-3194-44b5-95ef-c1c836092792",
   "metadata": {},
   "source": [
    "### Corrélation de Pearson"
   ]
  },
  {
   "cell_type": "code",
   "execution_count": 4,
   "id": "9b6ab49b-4b0e-46e7-817a-9d047b13d203",
   "metadata": {},
   "outputs": [],
   "source": [
    "def pearson(X,Y):\n",
    "    return np.corrcoef(X,Y)[0,1]"
   ]
  },
  {
   "cell_type": "markdown",
   "id": "cf83b7ff-eabf-4df5-a2ad-54342631ca27",
   "metadata": {},
   "source": [
    "## REGRESSION LINEAIRE"
   ]
  },
  {
   "cell_type": "markdown",
   "id": "287dce02-c02e-45c8-b828-508570ccf5bc",
   "metadata": {},
   "source": [
    "### TESTS RÉGRESSION LINÉAIRE"
   ]
  },
  {
   "cell_type": "code",
   "execution_count": 5,
   "id": "3b4885d3-bf6b-4720-957e-0c2120b0a5d7",
   "metadata": {},
   "outputs": [],
   "source": [
    "y = reg[:,-1]\n",
    "X = reg[:,:-1]\n",
    "\n",
    "X_train, X_test, y_train, y_test = train_test_split(X, y, test_size=0.2, random_state=42)\n",
    "X_train, X_valid, y_train, y_valid = train_test_split(X_train, y_train, test_size=0.25, random_state=42) # 0.25 * 0.8 = 0.2\n",
    "\n",
    "if len(y_train.shape)==1:\n",
    "    y_train = y_train.reshape(-1,1)\n",
    "    y_test = y_test.reshape(-1,1)"
   ]
  },
  {
   "cell_type": "code",
   "execution_count": 6,
   "id": "ce3fe152-3a17-4045-94db-202c942cb1e1",
   "metadata": {},
   "outputs": [],
   "source": [
    "nn = Linear(X_train.shape[1],y_train.shape[1])\n",
    "loss = MSE()\n",
    "\n",
    "epochs=300\n",
    "epoch_list = list(range(epochs))\n",
    "gradient_step=1e-4"
   ]
  },
  {
   "cell_type": "code",
   "execution_count": 7,
   "id": "de652369-37bf-4b51-b796-2a0dbcdf6527",
   "metadata": {},
   "outputs": [
    {
     "name": "stderr",
     "output_type": "stream",
     "text": [
      "100%|██████████| 300/300 [00:00<00:00, 1640.93it/s]\n"
     ]
    }
   ],
   "source": [
    "lr = LinearRegression(nn, loss, epochs, gradient_step)\n",
    "losses_train, scores_train, losses_valid, scores_valid = lr.fit(X_train,y_train,X_valid,y_valid)"
   ]
  },
  {
   "cell_type": "code",
   "execution_count": 8,
   "id": "93a7b259-6018-4733-ad4d-283ec49cb54a",
   "metadata": {},
   "outputs": [
    {
     "name": "stdout",
     "output_type": "stream",
     "text": [
      "Score R^2 en apprentissage : 0.7415308213959277\n"
     ]
    }
   ],
   "source": [
    "yhat_train = lr.predict(X_train)\n",
    "print(\"Score R^2 en apprentissage :\", lr.score(y_train, yhat_train))"
   ]
  },
  {
   "cell_type": "code",
   "execution_count": 9,
   "id": "4c720430-c1dd-4bb0-9f62-d5e0b2f026c1",
   "metadata": {},
   "outputs": [
    {
     "name": "stdout",
     "output_type": "stream",
     "text": [
      "Score R^2 en test : 0.7791128207285143\n"
     ]
    }
   ],
   "source": [
    "yhat = lr.predict(X_test)\n",
    "print(\"Score R^2 en test :\", lr.score(y_test, yhat))"
   ]
  },
  {
   "cell_type": "code",
   "execution_count": 10,
   "id": "13809be3-1e1a-4182-ac76-942754630ec6",
   "metadata": {},
   "outputs": [
    {
     "data": {
      "image/png": "[encoded data removed]",
      "text/plain": [
       "<Figure size 640x480 with 1 Axes>"
      ]
     },
     "metadata": {},
     "output_type": "display_data"
    }
   ],
   "source": [
    "plt.plot(epoch_list, losses_train)\n",
    "plt.show()"
   ]
  },
  {
   "cell_type": "code",
   "execution_count": 11,
   "id": "fea158fb-e380-4eeb-9387-406988dc414f",
   "metadata": {},
   "outputs": [
    {
     "data": {
      "image/png": "[encoded data removed]",
      "text/plain": [
       "<Figure size 640x480 with 1 Axes>"
      ]
     },
     "metadata": {},
     "output_type": "display_data"
    }
   ],
   "source": [
    "plt.plot(epoch_list, losses_valid)\n",
    "plt.show()"
   ]
  },
  {
   "cell_type": "code",
   "execution_count": 12,
   "id": "cd49acf2-e4bf-4126-8053-6bbb631b0d0b",
   "metadata": {},
   "outputs": [
    {
     "name": "stdout",
     "output_type": "stream",
     "text": [
      "0.9215066334133293\n"
     ]
    }
   ],
   "source": [
    "print(pearson(losses_train, losses_valid))"
   ]
  },
  {
   "cell_type": "code",
   "execution_count": 13,
   "id": "cc595bb6-4d99-49f7-a992-0b8eca69c46c",
   "metadata": {},
   "outputs": [
    {
     "name": "stderr",
     "output_type": "stream",
     "text": [
      "\n",
      "KeyboardInterrupt\n",
      "\n"
     ]
    }
   ],
   "source": [
    "plt.plot(epoch_list, scores_train)\n",
    "plt.plot(epoch_list, scores_valid)\n",
    "plt.legend([\"Train accuracy\", \"Valid accuracy\"])\n",
    "plt.show()"
   ]
  },
  {
   "cell_type": "code",
   "execution_count": null,
   "id": "b9f18e40-0e6c-4025-b84a-7f9ab51a75e4",
   "metadata": {},
   "outputs": [],
   "source": [
    "xmin= min(y_test.min(), yhat.min() )\n",
    "xmax= max(y_test.max(), yhat.max() )\n",
    "\n",
    "fig = plt.figure(1)\n",
    "ax = fig.add_subplot(111)\n",
    "\n",
    "plt.scatter(y_test, yhat, marker='x')\n",
    "plt.plot([xmin,xmax], [xmin,xmax], lw=3, color='k', ls='--') ## droite separatrice d'equation x2=x1\n",
    "\n",
    "plt.xlabel('y_test, verite terrain')\n",
    "plt.ylabel('yhat, prediction du modele')\n",
    "plt.legend()\n",
    "ax.set_aspect('equal') # on veut une figure carrée et pas allongée.\n",
    "\n",
    "plt.show()"
   ]
  },
  {
   "cell_type": "markdown",
   "id": "342f24d5-4862-4fa8-823e-7611814b2cfd",
   "metadata": {},
   "source": [
    "### TESTS CLASSIFICATION BINAIRE"
   ]
  },
  {
   "cell_type": "code",
   "execution_count": null,
   "id": "fb20f26d-2c31-4be3-b6c4-4cbecffd1730",
   "metadata": {},
   "outputs": [],
   "source": [
    "# INITIALISATION DES DONNÉES, DU RÉSEAU DE NEURONES ET DE LA LOSS FUNCTION\n",
    "X, y = gen_arti(nbex=5000, epsilon=0.3) # METTRE 10000 = MARCHE PAS (TROP DE DONNEES), MAIS MARCHE AVEC RESEAU DE NEURONES\n",
    "\n",
    "y = np.where(y==-1,0,1).reshape(-1,1)\n",
    "\n",
    "X_train, X_test, y_train, y_test = train_test_split(X, y, test_size=0.2, random_state=42)\n",
    "X_train, X_valid, y_train, y_valid = train_test_split(X_train, y_train, test_size=0.25, random_state=42)"
   ]
  },
  {
   "cell_type": "code",
   "execution_count": null,
   "id": "17b1ccf4-febc-4f63-a6db-4d2e6638465d",
   "metadata": {},
   "outputs": [],
   "source": [
    "# affichage des données\n",
    "plot_data(X, y)"
   ]
  },
  {
   "cell_type": "code",
   "execution_count": null,
   "id": "ec8d0ca1-11f9-41b2-b1f1-bed97389dc01",
   "metadata": {},
   "outputs": [],
   "source": [
    "if len(y_train.shape)==1:\n",
    "    y_train = y_train.reshape(-1,1)\n",
    "    y_valid = y_valid.reshape(-1,1)\n",
    "    y_test = y_test.reshape(-1,1)\n",
    "\n",
    "nn = Linear(X_train.shape[1],y_train.shape[1])\n",
    "loss = MSE()\n",
    "\n",
    "epochs=70\n",
    "epoch_list = list(range(epochs))\n",
    "gradient_step=1e-4"
   ]
  },
  {
   "cell_type": "code",
   "execution_count": null,
   "id": "02901566-70b8-44a3-8796-60813dc0a59c",
   "metadata": {},
   "outputs": [],
   "source": [
    "lr = LinearRegression(nn, loss, epochs, gradient_step)\n",
    "losses_train, scores_train, losses_valid, scores_valid = lr.fit(X_train,y_train,X_valid,y_valid)\n",
    "yhat = lr.predict(X_test).reshape(y_test.shape)\n",
    "yhat = np.where(yhat>=0.5, 1, 0)\n",
    "print(lr.score(y_test, yhat))"
   ]
  },
  {
   "cell_type": "code",
   "execution_count": null,
   "id": "82121b03-9b61-4800-857f-fcb162914565",
   "metadata": {},
   "outputs": [],
   "source": [
    "plt.plot(epoch_list, losses_train)\n",
    "plt.show()"
   ]
  },
  {
   "cell_type": "code",
   "execution_count": null,
   "id": "522075f6-7e82-465f-853c-eeae486876b7",
   "metadata": {},
   "outputs": [],
   "source": [
    "plt.plot(epoch_list, losses_valid)\n",
    "plt.show()"
   ]
  },
  {
   "cell_type": "code",
   "execution_count": null,
   "id": "2e3e808d-3c5a-44f9-9b50-6108087f0878",
   "metadata": {},
   "outputs": [],
   "source": [
    "print(pearson(losses_train, losses_valid))"
   ]
  },
  {
   "cell_type": "code",
   "execution_count": null,
   "id": "f7bba907-f950-4d3c-8fe9-82e073eaa116",
   "metadata": {},
   "outputs": [],
   "source": [
    "score = (np.where(y_test - yhat == 0, 1, 0).sum()) / y_test.size\n",
    "print(\"Pourcentage de données bien classées :\", score*100, \"%\")"
   ]
  },
  {
   "cell_type": "code",
   "execution_count": null,
   "id": "676c2da0-0785-4cb7-bcc3-be80eb021376",
   "metadata": {},
   "outputs": [],
   "source": [
    "def predict(X):\n",
    "    yhat = lr.predict(X)\n",
    "    return np.where(yhat>=0.5, 1, 0)\n",
    "\n",
    "plot_frontiere(X_test, predict, step=1000)\n",
    "plot_data(X_test, y_test.reshape(-1))"
   ]
  },
  {
   "cell_type": "markdown",
   "id": "0122bd16-9f18-4bd6-a3ad-69bc4aa415e9",
   "metadata": {},
   "source": [
    "## TESTS MODULE NON LINÉAIRE"
   ]
  },
  {
   "cell_type": "markdown",
   "id": "e4d58a95-9806-45b9-8452-5ad027eda815",
   "metadata": {},
   "source": [
    "### TWO LAYERS NETWORK IMPLEMENTATION"
   ]
  },
  {
   "cell_type": "code",
   "execution_count": null,
   "id": "eaba95ba-b970-43ac-8184-99ddd63cccfa",
   "metadata": {},
   "outputs": [],
   "source": [
    "X, y = gen_arti(nbex=10000, data_type=1)\n",
    "\n",
    "y = np.where(y==-1,0,1).reshape(-1,1)\n",
    "\n",
    "X_train, X_test, y_train, y_test = train_test_split(X, y, test_size=0.2, random_state=42)\n",
    "X_train, X_valid, y_train, y_valid = train_test_split(X_train, y_train, test_size=0.25, random_state=42)\n",
    "\n",
    "plot_data(X, y)"
   ]
  },
  {
   "cell_type": "code",
   "execution_count": null,
   "id": "06373d70-1cb8-46f6-a937-3a97cd02a6f2",
   "metadata": {},
   "outputs": [],
   "source": [
    "if len(y_train.shape)==1:\n",
    "    y_train = y_train.reshape(-1,1)\n",
    "    y_valid = y_valid.reshape(-1,1)\n",
    "    y_test = y_test.reshape(-1,1)\n",
    "    \n",
    "X_train = X_train.astype(float)\n",
    "X_valid = X_valid.astype(float)\n",
    "X_test = X_test.astype(float)\n",
    "y_train = y_train.astype(float)\n",
    "y_valid = y_valid.astype(float)\n",
    "y_test = y_test.astype(float)\n",
    "\n",
    "layer1 = Linear(X_train.shape[1], 16)\n",
    "layer2 = TanH()\n",
    "layer3 = Linear(16, 1)\n",
    "layer4 = Sigmoide()\n",
    "\n",
    "loss = MSE()\n",
    "\n",
    "net = Sequentiel([layer1, layer2, layer3, layer4], loss)\n",
    "\n",
    "epochs = 120\n",
    "epoch_list = list(range(epochs))\n",
    "opt = Optim(net, loss, eps=1e-4)\n",
    "\n",
    "losses_train = []\n",
    "losses_valid = []\n",
    "scores_train = []\n",
    "scores_valid = []\n",
    "for i in tqdm(range(epochs)):\n",
    "    loss_train, loss_valid, score_train, score_valid = opt.step(X_train, y_train, X_valid, y_valid)\n",
    "    losses_train.append(loss_train)\n",
    "    losses_valid.append(loss_valid)\n",
    "    scores_train.append(score_train)\n",
    "    scores_valid.append(score_valid)\n",
    "\n",
    "yhat = net.predict(X_test)\n",
    "yhat = np.where(yhat>=0.5, 1, 0)\n",
    "\n",
    "score = (np.where(y_test - yhat == 0, 1, 0).sum()) / y_test.size\n",
    "print(score)"
   ]
  },
  {
   "cell_type": "code",
   "execution_count": null,
   "id": "9984a5d9-69be-4e5b-8c7b-80c4ae1858f5",
   "metadata": {},
   "outputs": [],
   "source": [
    "plt.plot(epoch_list, losses_train)\n",
    "plt.plot(epoch_list, losses_valid)\n",
    "plt.legend([\"train\", \"validation\"])\n",
    "plt.title(\"loss function (MSE)\")\n",
    "plt.xlabel(\"epoch\")\n",
    "plt.ylabel(\"loss\")\n",
    "plt.show()"
   ]
  },
  {
   "cell_type": "code",
   "execution_count": null,
   "id": "32481f27-ed55-4a2b-8fa6-c901547952dc",
   "metadata": {},
   "outputs": [],
   "source": [
    "plt.plot(epoch_list, scores_train)\n",
    "plt.plot(epoch_list, scores_valid)\n",
    "plt.legend([\"train\", \"validation\"])\n",
    "plt.title(\"scores\")\n",
    "plt.xlabel(\"epoch\")\n",
    "plt.ylabel(\"score\")\n",
    "plt.show()\n",
    "print(\"Score atteint en training :\", max(scores_train)*100)\n",
    "print(\"Score atteint en validation :\", max(scores_valid)*100)"
   ]
  },
  {
   "cell_type": "code",
   "execution_count": null,
   "id": "b5f9cbc4-92e7-4361-90a1-a334805363d6",
   "metadata": {},
   "outputs": [],
   "source": [
    "print(pearson(losses_train, losses_valid))"
   ]
  },
  {
   "cell_type": "markdown",
   "id": "0509f5a7-de62-4023-a9eb-bcebb26abc06",
   "metadata": {},
   "source": [
    "## TEST MULTI CLASSE"
   ]
  },
  {
   "cell_type": "code",
   "execution_count": null,
   "id": "839731e7-13ed-4026-a585-99d75c779c5d",
   "metadata": {},
   "outputs": [],
   "source": [
    "X = np.concatenate((uspsX_train, uspsX_test))\n",
    "y = np.concatenate((uspsY_train, uspsY_test)).astype(int)\n",
    "\n",
    "onehot = np.zeros((y.size,10))\n",
    "onehot[np.arange(y.size),y]=1\n",
    "\n",
    "y = onehot"
   ]
  },
  {
   "cell_type": "code",
   "execution_count": null,
   "id": "a12ffa18-e6ce-44b1-81ce-e9d2b1087234",
   "metadata": {},
   "outputs": [],
   "source": [
    "plt.figure()\n",
    "plt.imshow(X[0].reshape(16,16), interpolation=None)\n",
    "plt.title('Affichage d\\'un échantillon de la classe: '+str(np.argmax(y[0])))"
   ]
  },
  {
   "cell_type": "code",
   "execution_count": null,
   "id": "9227970d-7291-491c-a5a1-a9ba07036286",
   "metadata": {},
   "outputs": [],
   "source": [
    "X_train, X_test, y_train, y_test = train_test_split(X, y, test_size=0.2, random_state=42)\n",
    "X_train, X_valid, y_train, y_valid = train_test_split(X_train, y_train, test_size=0.25, random_state=42)\n",
    "\n",
    "if len(y_train.shape)==1:\n",
    "    y_train = y_train.reshape(-1,1)\n",
    "    y_valid = y_valid.reshape(-1,1)\n",
    "    y_test = y_test.reshape(-1,1)\n",
    "    \n",
    "X_train = X_train.astype(float)\n",
    "X_valid = X_valid.astype(float)\n",
    "X_test = X_test.astype(float)\n",
    "y_train = y_train.astype(float)\n",
    "y_valid = y_valid.astype(float)\n",
    "y_test = y_test.astype(float)\n",
    "\n",
    "layer1 = Linear(X_train.shape[1], 128)\n",
    "layer2 = TanH()\n",
    "layer3 = Linear(128, 64)\n",
    "layer4 = TanH()\n",
    "layer5 = Linear(64, 10)\n",
    "layer6 = Sigmoide()\n",
    "\n",
    "loss = MSE()\n",
    "\n",
    "net = Sequentiel([layer1, layer2, layer3, layer4, layer5, layer6], loss)\n",
    "\n",
    "epochs = 40\n",
    "epoch_list = list(range(epochs))\n",
    "opt = Optim(net, loss, eps=1e-3)\n",
    "\n",
    "losses_train = []\n",
    "losses_valid = []\n",
    "scores_train = []\n",
    "scores_valid = []\n",
    "for _ in tqdm(range(epochs)):\n",
    "    loss_train, loss_valid, score_train, score_valid = opt.step(X_train, y_train, X_valid, y_valid)\n",
    "    losses_train.append(loss_train)\n",
    "    losses_valid.append(loss_valid)\n",
    "    scores_train.append(score_train)\n",
    "    scores_valid.append(score_valid)\n",
    "\n",
    "yhat = net.predict(X_test)\n",
    "yhat = np.argmax(yhat,1)\n",
    "\n",
    "y_test = np.argmax(y_test,1)\n",
    "\n",
    "score = np.where(y_test == yhat, 1, 0).sum() / y_test.size\n",
    "print(score)"
   ]
  },
  {
   "cell_type": "code",
   "execution_count": null,
   "id": "624099ec-2701-4085-9211-e2d074000a12",
   "metadata": {},
   "outputs": [],
   "source": [
    "plt.plot(epoch_list, losses_train)\n",
    "plt.plot(epoch_list, losses_valid)\n",
    "plt.legend([\"train\", \"validation\"])\n",
    "plt.title(\"losses (MSE)\")\n",
    "plt.xlabel(\"epoch\")\n",
    "plt.ylabel(\"loss\")\n",
    "plt.show()"
   ]
  },
  {
   "cell_type": "code",
   "execution_count": null,
   "id": "b2f67080-72a3-48d3-86bd-909c6c4c1907",
   "metadata": {},
   "outputs": [],
   "source": [
    "plt.plot(epoch_list, scores_train)\n",
    "plt.plot(epoch_list, scores_valid)\n",
    "plt.legend([\"train\", \"validation\"])\n",
    "plt.title(\"scores\")\n",
    "plt.xlabel(\"epoch\")\n",
    "plt.ylabel(\"score\")\n",
    "plt.show()\n",
    "print(\"Score atteint en training :\", max(scores_train)*100)\n",
    "print(\"Score atteint en validation :\", max(scores_valid)*100)"
   ]
  },
  {
   "cell_type": "code",
   "execution_count": null,
   "id": "1ea90cc9-6a83-4298-b33a-57fb483a15e9",
   "metadata": {},
   "outputs": [],
   "source": [
    "print(pearson(losses_train, losses_valid))\n",
    "print(pearson(scores_train, scores_valid))"
   ]
  },
  {
   "cell_type": "code",
   "execution_count": null,
   "id": "0d169bad-dd56-4b84-b540-23d68f3fe417",
   "metadata": {},
   "outputs": [],
   "source": [
    "X = np.concatenate((uspsX_train, uspsX_test))\n",
    "y = np.concatenate((uspsY_train, uspsY_test)).astype(int)\n",
    "\n",
    "onehot = np.zeros((y.size,10))\n",
    "onehot[np.arange(y.size),y]=1\n",
    "\n",
    "y = onehot\n",
    "\n",
    "X_train, X_test, y_train, y_test = train_test_split(X, y, test_size=0.2, random_state=42)\n",
    "X_train, X_valid, y_train, y_valid = train_test_split(X_train, y_train, test_size=0.25, random_state=42)\n",
    "\n",
    "if len(y_train.shape)==1:\n",
    "    y_train = y_train.reshape(-1,1)\n",
    "    y_valid = y_valid.reshape(-1,1)\n",
    "    y_test = y_test.reshape(-1,1)\n",
    "    \n",
    "X_train = X_train.astype(np.float64)\n",
    "X_valid = X_valid.astype(np.float64)\n",
    "X_test = X_test.astype(np.float64)\n",
    "y_train = y_train.astype(np.float64)\n",
    "y_valid = y_valid.astype(np.float64)\n",
    "y_test = y_test.astype(np.float64)\n",
    "\n",
    "layer1 = Linear(X_train.shape[1], 128)\n",
    "layer2 = TanH()\n",
    "layer3 = Linear(128, 64)\n",
    "layer4 = TanH()\n",
    "layer5 = Linear(64, 10)\n",
    "\n",
    "loss = CElogSoftmax()\n",
    "\n",
    "net = Sequentiel([layer1, layer2, layer3, layer4, layer5], loss)\n",
    "\n",
    "epochs = 200\n",
    "epoch_list = list(range(epochs))\n",
    "opt = Optim(net, loss, eps=1e-4)\n",
    "\n",
    "losses_train = []\n",
    "losses_valid = []\n",
    "scores_train = []\n",
    "scores_valid = []\n",
    "for i in tqdm(range(epochs)):\n",
    "    loss_train, loss_valid, score_train, score_valid = opt.step(X_train, y_train, X_valid, y_valid)\n",
    "    losses_train.append(loss_train)\n",
    "    losses_valid.append(loss_valid)\n",
    "    scores_train.append(score_train)\n",
    "    scores_valid.append(score_valid)\n",
    "\n",
    "yhat = net.predict(X_test)\n",
    "yhat = np.argmax(yhat,1)\n",
    "\n",
    "y_test = np.argmax(y_test,1)\n",
    "\n",
    "plt.plot(epoch_list, losses_train)\n",
    "plt.plot(epoch_list, losses_valid)\n",
    "plt.legend([\"train\", \"validation\"])\n",
    "plt.title(\"losses (CE + logSoftmax)\")\n",
    "plt.xlabel(\"epoch\")\n",
    "plt.ylabel(\"loss\")\n",
    "plt.show()"
   ]
  },
  {
   "cell_type": "code",
   "execution_count": null,
   "id": "68528a78-adac-47ff-9c07-d6237deae6c0",
   "metadata": {},
   "outputs": [],
   "source": [
    "plt.plot(epoch_list, scores_train)\n",
    "plt.plot(epoch_list, scores_valid)\n",
    "plt.legend([\"train\", \"validation\"])\n",
    "plt.title(\"scores\")\n",
    "plt.xlabel(\"epoch\")\n",
    "plt.ylabel(\"score\")\n",
    "plt.show()\n",
    "print(\"Score (en %) atteint en training :\", max(scores_train)*100)\n",
    "print(\"Score (en %) atteint en validation :\", max(scores_valid)*100)\n",
    "score = np.where(y_test == yhat, 1, 0).sum() / y_test.size\n",
    "print(\"Score (en %) atteint sur les données de test :\", score*100)"
   ]
  },
  {
   "cell_type": "code",
   "execution_count": null,
   "id": "63479ecf-312d-4a0e-8e4e-cb4d9101096f",
   "metadata": {},
   "outputs": [],
   "source": [
    "print(pearson(losses_train, losses_valid))"
   ]
  },
  {
   "cell_type": "code",
   "execution_count": null,
   "id": "6b666b8b-7d2d-4541-9b96-7962138391f2",
   "metadata": {},
   "outputs": [],
   "source": [
    "X = np.concatenate((uspsX_train, uspsX_test)).astype(np.float64)\n",
    "X /= np.max(X)\n",
    "y = np.concatenate((uspsY_train, uspsY_test)).astype(int)\n",
    "\n",
    "onehot = np.zeros((y.size,10))\n",
    "onehot[np.arange(y.size),y]=1\n",
    "\n",
    "y = onehot"
   ]
  },
  {
   "cell_type": "code",
   "execution_count": null,
   "id": "b42bbb0e-7b30-41d6-bfc8-9753a74c88ef",
   "metadata": {},
   "outputs": [],
   "source": [
    "plt.figure()\n",
    "plt.imshow(X[0].reshape(16,16), interpolation=None)\n",
    "plt.title('Affichage d\\'un échantillon de la classe: '+str(np.argmax(y[0])))"
   ]
  },
  {
   "cell_type": "code",
   "execution_count": null,
   "id": "4e8470ef-09e7-4acd-96ae-db6c17a76ab8",
   "metadata": {},
   "outputs": [],
   "source": [
    "X = np.concatenate((uspsX_train, uspsX_test)).astype(np.float64)\n",
    "X /= np.max(X)\n",
    "y = np.concatenate((uspsY_train, uspsY_test)).astype(int)\n",
    "\n",
    "onehot = np.zeros((y.size,10))\n",
    "onehot[np.arange(y.size),y]=1\n",
    "\n",
    "y = onehot\n",
    "\n",
    "# TEST COMPRESSION\n",
    "\n",
    "X_train, X_test, y_train, y_test = train_test_split(X, y, test_size=0.2, random_state=42)\n",
    "X_train, X_valid, y_train, y_train = train_test_split(X_train, y_train, test_size=0.25, random_state=42)\n",
    "\n",
    "if len(y_train.shape)==1:\n",
    "    y_train = y_train.reshape(-1,1)\n",
    "    y_valid = y_valid.reshape(-1,1)\n",
    "    y_test = y_test.reshape(-1,1)\n",
    "    \n",
    "X_train = X_train.astype(np.float64)\n",
    "X_valid = X_valid.astype(np.float64)\n",
    "X_test = X_test.astype(np.float64)\n",
    "y_train = y_train.astype(np.float64)\n",
    "y_valid = y_valid.astype(np.float64)\n",
    "y_test = y_test.astype(np.float64)\n",
    "\n",
    "layer1 = Linear(X_train.shape[1], 64)\n",
    "layer2 = TanH()\n",
    "layer3 = Linear(64, 256)\n",
    "layer4 = TanH()\n",
    "\n",
    "layer1_dec = Linear(64,128)\n",
    "layer1_dec._parameters = layer3._parameters.T\n",
    "layer2_dec = TanH()\n",
    "layer3_dec = Linear(128, X_train.shape[1])\n",
    "layer3_dec._parameters = layer1._parameters.T\n",
    "layer4_dec = Sigmoide()\n",
    "\n",
    "loss = MSE()\n",
    "\n",
    "net = Sequentiel([layer1, layer2, layer3, layer4_dec], loss)\n",
    "\n",
    "epochs = 500\n",
    "epoch_list = list(range(epochs))\n",
    "opt = Optim(net, loss, eps=2e-4)\n",
    "\n",
    "losses_train = []\n",
    "losses_valid = []\n",
    "scores_train = []\n",
    "scores_valid = []\n",
    "for _ in tqdm(range(epochs)):\n",
    "    loss_train, loss_valid, score_train, score_valid = opt.step(X_train, X_train, X_valid, X_valid)\n",
    "    losses_train.append(loss_train)\n",
    "    losses_valid.append(loss_valid)\n",
    "    scores_train.append(score_train)\n",
    "    scores_valid.append(score_valid)\n",
    "\n",
    "Xtrain_hat = net.predict(X_train)\n",
    "Xhat = net.predict(X_test)\n",
    "\n",
    "plt.plot(epoch_list, losses_train)\n",
    "plt.plot(epoch_list, losses_valid)\n",
    "plt.legend([\"train\", \"validation\"])\n",
    "plt.title(\"losses (MSE)\")\n",
    "plt.xlabel(\"epoch\")\n",
    "plt.ylabel(\"loss\")\n",
    "plt.show()"
   ]
  },
  {
   "cell_type": "code",
   "execution_count": null,
   "id": "071ed2df-d27d-4fd1-93de-6d5f87b8441c",
   "metadata": {},
   "outputs": [],
   "source": [
    "plt.figure()\n",
    "plt.imshow(Xhat[3].reshape(16,16), interpolation=None)\n",
    "plt.title('Affichage d\\'un échantillon de la classe: '+str(np.argmax(y_test[3])))"
   ]
  },
  {
   "cell_type": "code",
   "execution_count": null,
   "id": "08ab8da8-f9c4-4908-9a45-37c2924285a3",
   "metadata": {},
   "outputs": [],
   "source": [
    "plt.figure()\n",
    "plt.imshow(Xtrain_hat[0].reshape(16,16), interpolation=None)\n",
    "plt.title('Affichage d\\'un échantillon de la classe: '+str(np.argmax(y_train[0])))"
   ]
  },
  {
   "cell_type": "code",
   "execution_count": null,
   "id": "c69a8fb1-88c8-49e6-8454-97f2a0e9710e",
   "metadata": {},
   "outputs": [],
   "source": [
    "plt.figure()\n",
    "plt.imshow(X_test[3].reshape(16,16), interpolation=None)\n",
    "plt.title('Affichage d\\'un échantillon de la classe: '+str(np.argmax(y_test[3])))"
   ]
  },
  {
   "cell_type": "markdown",
   "id": "7c1e8805-51fb-4852-96c7-96ee9f68db74",
   "metadata": {},
   "source": [
    "# COMPARAISON COMPRESSION ET PCA"
   ]
  },
  {
   "cell_type": "code",
   "execution_count": null,
   "id": "af09684a-30bc-443e-9236-2d881290438f",
   "metadata": {},
   "outputs": [],
   "source": [
    "X = np.concatenate((uspsX_train, uspsX_test)).astype(np.float64)\n",
    "X = X / X.max()\n",
    "y = np.concatenate((uspsY_train, uspsY_test)).astype(int)\n",
    "\n",
    "onehot = np.zeros((y.size,10))\n",
    "onehot[np.arange(y.size),y]=1\n",
    "\n",
    "y = onehot\n",
    "\n",
    "X_train, X_test, y_train, y_test = train_test_split(X, y, test_size=0.2, random_state=42)\n",
    "X_train, X_valid, y_train, y_valid = train_test_split(X_train, y_train, test_size=0.25, random_state=42)\n",
    "\n",
    "if len(y_train.shape)==1:\n",
    "    y_train = y_train.reshape(-1,1)\n",
    "    y_valid = y_valid.reshape(-1,1)\n",
    "    y_test = y_test.reshape(-1,1)\n",
    "    \n",
    "X_train = X_train.astype(np.float64)\n",
    "X_valid = X_valid.astype(np.float64)\n",
    "X_test = X_test.astype(np.float64)\n",
    "y_train = y_train.astype(np.float64)\n",
    "y_valid = y_valid.astype(np.float64)\n",
    "y_test = y_test.astype(np.float64)\n",
    "\n",
    "pca = PCA(n_components=64)\n",
    "\n",
    "X_pca_test = pca.fit_transform(X_test)\n",
    "\n",
    "layer1 = Linear(X_train.shape[1], 64)\n",
    "layer2 = TanH()\n",
    "\n",
    "layer1_dec = Linear(64,X_train.shape[1])\n",
    "layer2_dec = Sigmoide()\n",
    "\n",
    "loss = MSE()\n",
    "\n",
    "net = Sequentiel([layer1, layer2, layer1_dec, layer2_dec], loss)\n",
    "\n",
    "epochs = 500\n",
    "epoch_list = list(range(epochs))\n",
    "opt = Optim(net, loss, eps=2e-4)\n",
    "\n",
    "losses_train = []\n",
    "losses_valid = []\n",
    "scores_train = []\n",
    "scores_valid = []\n",
    "for _ in tqdm(range(epochs)):\n",
    "    loss_train, loss_valid, score_train, score_valid = opt.step(X_train, X_train, X_valid, X_valid)\n",
    "    losses_train.append(loss_train)\n",
    "    losses_valid.append(loss_valid)\n",
    "    scores_train.append(score_train)\n",
    "    scores_valid.append(score_valid)\n",
    "    \n",
    "Xhat_comp = net.predict(X_test)\n",
    "\n",
    "Xhat_pca = pca.inverse_transform(X_pca_test)\n",
    "    \n",
    "plt.plot(epoch_list, losses_train)\n",
    "plt.plot(epoch_list, losses_valid)\n",
    "plt.show()"
   ]
  },
  {
   "cell_type": "code",
   "execution_count": null,
   "id": "a92e1b33-ceeb-403b-b468-bc07aaafb082",
   "metadata": {},
   "outputs": [],
   "source": [
    "plt.figure()\n",
    "plt.imshow(X_test[6].reshape(16,16), interpolation=None)\n",
    "plt.title('Affichage d\\'un échantillon de la classe: '+str(np.argmax(y_test[6])))"
   ]
  },
  {
   "cell_type": "code",
   "execution_count": null,
   "id": "188bc88b-587f-49fb-80d8-25c089c0d433",
   "metadata": {},
   "outputs": [],
   "source": [
    "plt.figure()\n",
    "plt.imshow(Xhat_comp[6].reshape(16,16), interpolation=None)\n",
    "plt.title('Affichage d\\'un échantillon de la classe: '+str(np.argmax(y_test[6])))"
   ]
  },
  {
   "cell_type": "code",
   "execution_count": null,
   "id": "2ddfe9a3-5d99-4526-8e42-2c9cd4dacc13",
   "metadata": {},
   "outputs": [],
   "source": [
    "plt.figure()\n",
    "plt.imshow(Xhat_pca[6].reshape(16,16), interpolation=None)\n",
    "plt.title('Affichage d\\'un échantillon de la classe: '+str(np.argmax(y_test[6])))"
   ]
  },
  {
   "cell_type": "markdown",
   "id": "25ba0b58-5baa-429d-a422-54fa5a70288f",
   "metadata": {},
   "source": [
    "### DECODEUR DIY VS DECODEUR PCA"
   ]
  },
  {
   "cell_type": "code",
   "execution_count": 148,
   "id": "1f991628-1a25-4dbe-937a-65fc2a25e253",
   "metadata": {},
   "outputs": [
    {
     "name": "stderr",
     "output_type": "stream",
     "text": [
      "100%|██████████| 100/100 [00:12<00:00,  8.24it/s]\n"
     ]
    },
    {
     "data": {
      "image/png": "[encoded data removed]",
      "text/plain": [
       "<Figure size 640x480 with 1 Axes>"
      ]
     },
     "metadata": {},
     "output_type": "display_data"
    }
   ],
   "source": [
    "X = np.concatenate((uspsX_train, uspsX_test)).astype(np.float64)\n",
    "X = X / X.max()\n",
    "y = np.concatenate((uspsY_train, uspsY_test)).astype(int)\n",
    "\n",
    "onehot = np.zeros((y.size,10))\n",
    "onehot[np.arange(y.size),y]=1\n",
    "\n",
    "y = onehot\n",
    "\n",
    "X_train, X_test, y_train, y_test = train_test_split(X, y, test_size=0.2, random_state=42)\n",
    "X_train, X_valid, y_train, y_valid = train_test_split(X_train, y_train, test_size=0.25, random_state=42)\n",
    "\n",
    "if len(y_train.shape)==1:\n",
    "    y_train = y_train.reshape(-1,1)\n",
    "    y_valid = y_valid.reshape(-1,1)\n",
    "    y_test = y_test.reshape(-1,1)\n",
    "    \n",
    "X_train = X_train.astype(np.float64)\n",
    "X_valid = X_valid.astype(np.float64)\n",
    "X_test = X_test.astype(np.float64)\n",
    "y_train = y_train.astype(np.float64)\n",
    "y_valid = y_valid.astype(np.float64)\n",
    "y_test = y_test.astype(np.float64)\n",
    "\n",
    "loss = MSE()\n",
    "\n",
    "pca = PCA(n_components=64)\n",
    "\n",
    "X_pca_train = pca.fit_transform(X_train)\n",
    "\n",
    "X_pca_valid = pca.fit_transform(X_valid)\n",
    "\n",
    "X_pca_test = pca.fit_transform(X_test)\n",
    "\n",
    "decodeur = Sequentiel([TanH(), Linear(64, 256), Sigmoide()], loss)\n",
    "\n",
    "epochs = 100\n",
    "epoch_list = list(range(epochs))\n",
    "opt_dec = Optim(decodeur, loss, eps=1e-3)\n",
    "\n",
    "losses_train = []\n",
    "losses_valid = []\n",
    "scores_train = []\n",
    "scores_valid = []\n",
    "for _ in tqdm(range(epochs)):\n",
    "    loss_train, loss_valid, score_train, score_valid = opt_dec.step(X_pca_train, X_train, X_pca_valid, X_valid)\n",
    "    losses_train.append(loss_train)\n",
    "    losses_valid.append(loss_valid)\n",
    "    scores_train.append(score_train)\n",
    "    scores_valid.append(score_valid)\n",
    "\n",
    "Xpca_hat = decodeur.predict(X_pca_test)\n",
    "Xpca_train = decodeur.predict(X_pca_train)\n",
    "Xpca_hat2 = pca.inverse_transform(X_pca_test)\n",
    "\n",
    "plt.plot(epoch_list, losses_train)\n",
    "plt.plot(epoch_list, losses_valid)\n",
    "plt.show()"
   ]
  },
  {
   "cell_type": "code",
   "execution_count": 149,
   "id": "3d0a5ea8-5e43-4bbc-96d1-342865c34fb8",
   "metadata": {},
   "outputs": [
    {
     "data": {
      "text/plain": [
       "Text(0.5, 1.0, \"Affichage d'un échantillon de la classe: 0\")"
      ]
     },
     "execution_count": 149,
     "metadata": {},
     "output_type": "execute_result"
    },
    {
     "data": {
      "image/png": "[encoded data removed]",
      "text/plain": [
       "<Figure size 640x480 with 1 Axes>"
      ]
     },
     "metadata": {},
     "output_type": "display_data"
    }
   ],
   "source": [
    "plt.figure()\n",
    "plt.imshow(X_test[6].reshape(16,16), interpolation=None)\n",
    "plt.title('Affichage d\\'un échantillon de la classe: '+str(np.argmax(y_test[6])))"
   ]
  },
  {
   "cell_type": "code",
   "execution_count": 150,
   "id": "2ee0e2c2-7de0-48cb-b0d6-edb951ed4a6a",
   "metadata": {},
   "outputs": [
    {
     "data": {
      "text/plain": [
       "Text(0.5, 1.0, \"Affichage d'un échantillon de la classe: 0\")"
      ]
     },
     "execution_count": 150,
     "metadata": {},
     "output_type": "execute_result"
    },
    {
     "data": {
      "image/png": "[encoded data removed]",
      "text/plain": [
       "<Figure size 640x480 with 1 Axes>"
      ]
     },
     "metadata": {},
     "output_type": "display_data"
    }
   ],
   "source": [
    "plt.figure()\n",
    "plt.imshow(Xpca_hat[6].reshape(16,16), interpolation=None)\n",
    "plt.title('Affichage d\\'un échantillon de la classe: '+str(np.argmax(y_test[6])))"
   ]
  },
  {
   "cell_type": "code",
   "execution_count": 151,
   "id": "256f1207-cebf-4730-93bc-e5705266bd0b",
   "metadata": {},
   "outputs": [
    {
     "data": {
      "text/plain": [
       "Text(0.5, 1.0, \"Affichage d'un échantillon de la classe: 5\")"
      ]
     },
     "execution_count": 151,
     "metadata": {},
     "output_type": "execute_result"
    },
    {
     "data": {
      "image/png": "[encoded data removed]",
      "text/plain": [
       "<Figure size 640x480 with 1 Axes>"
      ]
     },
     "metadata": {},
     "output_type": "display_data"
    }
   ],
   "source": [
    "plt.figure()\n",
    "plt.imshow(Xpca_train[12].reshape(16,16), interpolation=None)\n",
    "plt.title('Affichage d\\'un échantillon de la classe: '+str(np.argmax(y_train[12])))"
   ]
  },
  {
   "cell_type": "code",
   "execution_count": 152,
   "id": "f537c7ed-d161-43fd-b059-8ea681390e9b",
   "metadata": {},
   "outputs": [
    {
     "data": {
      "text/plain": [
       "Text(0.5, 1.0, \"Affichage d'un échantillon de la classe: 0\")"
      ]
     },
     "execution_count": 152,
     "metadata": {},
     "output_type": "execute_result"
    },
    {
     "data": {
      "image/png": "[encoded data removed]",
      "text/plain": [
       "<Figure size 640x480 with 1 Axes>"
      ]
     },
     "metadata": {},
     "output_type": "display_data"
    }
   ],
   "source": [
    "plt.figure()\n",
    "plt.imshow(Xpca_hat2[6].reshape(16,16), interpolation=None)\n",
    "plt.title('Affichage d\\'un échantillon de la classe: '+str(np.argmax(y_test[6])))"
   ]
  },
  {
   "cell_type": "markdown",
   "id": "6a3af8d2-5cd8-4223-bcbd-40436c694e96",
   "metadata": {},
   "source": [
    "### PCA DECODEUR"
   ]
  },
  {
   "cell_type": "code",
   "execution_count": 259,
   "id": "e82f57e3-44a6-49f9-8e1a-81f5c4ceeedf",
   "metadata": {},
   "outputs": [
    {
     "name": "stderr",
     "output_type": "stream",
     "text": [
      "100%|██████████| 100/100 [00:03<00:00, 25.41it/s]\n"
     ]
    },
    {
     "data": {
      "image/png": "[encoded data removed]",
      "text/plain": [
       "<Figure size 640x480 with 1 Axes>"
      ]
     },
     "metadata": {},
     "output_type": "display_data"
    }
   ],
   "source": [
    "X = np.concatenate((uspsX_train, uspsX_test)).astype(np.float64)\n",
    "X = X / X.max()\n",
    "y = np.concatenate((uspsY_train, uspsY_test)).astype(int)\n",
    "\n",
    "onehot = np.zeros((y.size,10))\n",
    "onehot[np.arange(y.size),y]=1\n",
    "\n",
    "y = onehot\n",
    "\n",
    "X_train, X_test, y_train, y_test = train_test_split(X, y, test_size=0.2, random_state=42)\n",
    "X_train, X_valid, y_train, y_valid = train_test_split(X_train, y_train, test_size=0.25, random_state=42)\n",
    "\n",
    "if len(y_train.shape)==1:\n",
    "    y_train = y_train.reshape(-1,1)\n",
    "    y_valid = y_valid.reshape(-1,1)\n",
    "    y_test = y_test.reshape(-1,1)\n",
    "    \n",
    "X_train = X_train.astype(np.float64)\n",
    "X_valid = X_valid.astype(np.float64)\n",
    "X_test = X_test.astype(np.float64)\n",
    "y_train = y_train.astype(np.float64)\n",
    "y_valid = y_valid.astype(np.float64)\n",
    "y_test = y_test.astype(np.float64)\n",
    "\n",
    "loss = MSE()\n",
    "\n",
    "pca_train = PCA(n_components=64)\n",
    "pca_valid = PCA(n_components=64)\n",
    "pca_test = PCA(n_components=64)\n",
    "\n",
    "X_pca_train = pca_train.fit_transform(X_train)\n",
    "X_pca_valid = pca_valid.fit_transform(X_valid)\n",
    "pca_test.fit(X_test)\n",
    "\n",
    "encodeur = Sequentiel([Linear(X_train.shape[1], 64), Sigmoide()], loss)\n",
    "\n",
    "epochs = 100\n",
    "epoch_list = list(range(epochs))\n",
    "opt_enc = Optim(encodeur, loss, eps=1e-3)\n",
    "\n",
    "losses_train = []\n",
    "losses_valid = []\n",
    "scores_train = []\n",
    "scores_valid = []\n",
    "for _ in tqdm(range(epochs)):\n",
    "    loss_train, loss_valid, score_train, score_valid = opt_enc.step(X_train, X_pca_train, X_valid, X_pca_valid)\n",
    "    losses_train.append(loss_train)\n",
    "    losses_valid.append(loss_valid)\n",
    "    scores_train.append(score_train)\n",
    "    scores_valid.append(score_valid)\n",
    "\n",
    "tmp = encodeur.predict(X_test)\n",
    "\n",
    "Xpca_hat = pca_test.inverse_transform(tmp)\n",
    "\n",
    "plt.plot(epoch_list, losses_train)\n",
    "plt.plot(epoch_list, losses_valid)\n",
    "plt.show()"
   ]
  },
  {
   "cell_type": "code",
   "execution_count": 260,
   "id": "69f5cc09-43f5-4059-81e0-1846effd9e3c",
   "metadata": {},
   "outputs": [
    {
     "data": {
      "text/plain": [
       "Text(0.5, 1.0, \"Affichage d'un échantillon de la classe: 0\")"
      ]
     },
     "execution_count": 260,
     "metadata": {},
     "output_type": "execute_result"
    },
    {
     "data": {
      "image/png": "[encoded data removed]",
      "text/plain": [
       "<Figure size 640x480 with 1 Axes>"
      ]
     },
     "metadata": {},
     "output_type": "display_data"
    }
   ],
   "source": [
    "plt.figure()\n",
    "plt.imshow(X_test[6].reshape(16,16), interpolation=None)\n",
    "plt.title('Affichage d\\'un échantillon de la classe: '+str(np.argmax(y_test[6])))"
   ]
  },
  {
   "cell_type": "code",
   "execution_count": 261,
   "id": "ea9f0004-5835-4e56-8102-f8bcd84128d0",
   "metadata": {},
   "outputs": [
    {
     "data": {
      "text/plain": [
       "Text(0.5, 1.0, \"Affichage d'un échantillon de la classe: 0\")"
      ]
     },
     "execution_count": 261,
     "metadata": {},
     "output_type": "execute_result"
    },
    {
     "data": {
      "image/png": "[encoded data removed]",
      "text/plain": [
       "<Figure size 640x480 with 1 Axes>"
      ]
     },
     "metadata": {},
     "output_type": "display_data"
    }
   ],
   "source": [
    "plt.figure()\n",
    "plt.imshow(Xpca_hat[6].reshape(16,16), interpolation=None)\n",
    "plt.title('Affichage d\\'un échantillon de la classe: '+str(np.argmax(y_test[6])))"
   ]
  },
  {
   "cell_type": "markdown",
   "id": "3ce18848-999d-427c-8590-3966b8ee744c",
   "metadata": {},
   "source": [
    "# CONVOLUTION 1D"
   ]
  },
  {
   "cell_type": "code",
   "execution_count": null,
   "id": "9e28218f-6c0e-4480-bfa7-1e14ca8b8b78",
   "metadata": {},
   "outputs": [],
   "source": [
    "X = np.concatenate((uspsX_train, uspsX_test)).astype(np.float64)[:500] # ATTENTION ON ENTRAINE SUR 500 DONNEES ET PAS TOUT LE DATASET\n",
    "y = np.concatenate((uspsY_train, uspsY_test)).astype(int)[:500]\n",
    "\n",
    "onehot = np.zeros((y.size,10))\n",
    "onehot[np.arange(y.size),y]=1\n",
    "\n",
    "y = onehot\n",
    "\n",
    "X_train, X_test, y_train, y_test = train_test_split(X, y, test_size=0.2, random_state=42)\n",
    "X_train, X_valid, y_train, y_valid = train_test_split(X_train, y_train, test_size=0.25, random_state=42)\n",
    "\n",
    "if len(y_train.shape)==1:\n",
    "    y_train = y_train.reshape(-1,1)\n",
    "    y_valid = y_valid.reshape(-1,1)\n",
    "    y_test = y_test.reshape(-1,1)\n",
    "    \n",
    "X_train = X_train.astype(np.float64)\n",
    "X_valid = X_valid.astype(np.float64)\n",
    "X_test = X_test.astype(np.float64)\n",
    "y_train = y_train.astype(np.float64)\n",
    "y_valid = y_valid.astype(np.float64)\n",
    "y_test = y_test.astype(np.float64)\n",
    "\n",
    "X_train = X_train[..., np.newaxis]\n",
    "X_valid = X_valid[..., np.newaxis]\n",
    "X_test = X_test[..., np.newaxis]\n",
    "\n",
    "layer1 = Conv1D(128, 1, 32)\n",
    "layer2 = MaxPool1D(2,2)\n",
    "layer3 = Flatten()\n",
    "layer4 = Linear(2048,100)\n",
    "layer5 = ReLU()\n",
    "layer6 = Linear(100,10)\n",
    "\n",
    "loss = CElogSoftmax()\n",
    "\n",
    "net = Sequentiel([layer1, layer2, layer3, layer4, layer5, layer6], loss)\n",
    "\n",
    "epochs = 100\n",
    "epoch_list = list(range(epochs))\n",
    "opt = Optim(net, loss, eps=1e-5)\n",
    "\n",
    "losses_train = []\n",
    "losses_valid = []\n",
    "scores_train = []\n",
    "scores_valid = []\n",
    "for i in tqdm(range(epochs)):\n",
    "    loss_train, loss_valid, score_train, score_valid = opt.step(X_train, y_train, X_valid, y_valid)\n",
    "    losses_train.append(loss_train)\n",
    "    losses_valid.append(loss_valid)\n",
    "    scores_train.append(score_train)\n",
    "    scores_valid.append(score_valid)\n",
    "\n",
    "yhat = net.predict(X_test)\n",
    "yhat = np.argmax(yhat,1)\n",
    "\n",
    "y_test = np.argmax(y_test,1)\n",
    "\n",
    "plt.plot(epoch_list, losses_train)\n",
    "plt.plot(epoch_list, losses_valid)\n",
    "plt.legend([\"train\", \"validation\"])\n",
    "plt.title(\"losses (CE + logSoftmax)\")\n",
    "plt.xlabel(\"epoch\")\n",
    "plt.ylabel(\"loss\")\n",
    "plt.show()"
   ]
  },
  {
   "cell_type": "code",
   "execution_count": null,
   "id": "bb0b00a2-957f-42f4-9f0e-fd76d1e26ebf",
   "metadata": {},
   "outputs": [],
   "source": [
    "plt.plot(epoch_list, scores_train)\n",
    "plt.plot(epoch_list, scores_valid)\n",
    "plt.legend([\"train\", \"validation\"])\n",
    "plt.title(\"scores\")\n",
    "plt.xlabel(\"epoch\")\n",
    "plt.ylabel(\"score\")\n",
    "plt.show()\n",
    "print(\"Score (en %) atteint en training :\", max(scores_train)*100)\n",
    "print(\"Score (en %) atteint en validation :\", max(scores_valid)*100)\n",
    "score = np.where(y_test == yhat, 1, 0).sum() / y_test.size\n",
    "print(\"Score (en %) atteint sur les données de test :\", score*100)"
   ]
  },
  {
   "cell_type": "code",
   "execution_count": null,
   "id": "ecf5cf66-0fb1-4267-b800-a3777172b03c",
   "metadata": {},
   "outputs": [],
   "source": []
  }
 ],
 "metadata": {
  "kernelspec": {
   "display_name": "Python 3 (ipykernel)",
   "language": "python",
   "name": "python3"
  },
  "language_info": {
   "codemirror_mode": {
    "name": "ipython",
    "version": 3
   },
   "file_extension": ".py",
   "mimetype": "text/x-python",
   "name": "python",
   "nbconvert_exporter": "python",
   "pygments_lexer": "ipython3",
   "version": "3.10.9"
  }
 },
 "nbformat": 4,
 "nbformat_minor": 5
}
