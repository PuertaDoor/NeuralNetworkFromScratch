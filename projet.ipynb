{
 "cells": [
  {
   "cell_type": "markdown",
   "id": "53ed7a99-63e2-44ee-97e4-5deaa1dc39b5",
   "metadata": {},
   "source": [
    "# IMPORTS"
   ]
  },
  {
   "cell_type": "code",
   "execution_count": 593,
   "id": "7f9ed66a-801c-4b57-b275-9687646b9b3b",
   "metadata": {},
   "outputs": [],
   "source": [
    "import numpy as np\n",
    "import pandas as pd\n",
    "from sklearn.model_selection import train_test_split\n",
    "import matplotlib.pyplot as plt\n",
    "from mltools import *\n",
    "from sklearn.metrics import accuracy_score"
   ]
  },
  {
   "cell_type": "markdown",
   "id": "5766e535-6514-4ed2-992a-bcb25a8183b8",
   "metadata": {},
   "source": [
    "# STRUCTURES DE BASE"
   ]
  },
  {
   "cell_type": "code",
   "execution_count": 515,
   "id": "96c95784-8bfe-4893-8f3b-d059832e7142",
   "metadata": {},
   "outputs": [],
   "source": [
    "class Loss(object):\n",
    "    def forward(self, y, yhat):\n",
    "        pass\n",
    "\n",
    "    def backward(self, y, yhat):\n",
    "        pass"
   ]
  },
  {
   "cell_type": "code",
   "execution_count": 516,
   "id": "d480d367-51a8-44b2-899c-2ca752bf742b",
   "metadata": {},
   "outputs": [],
   "source": [
    "class Module(object):\n",
    "    def __init__(self):\n",
    "        self._parameters = None\n",
    "        self._gradient = None\n",
    "\n",
    "    def zero_grad(self):\n",
    "        ## Annule gradient\n",
    "        pass\n",
    "\n",
    "    def forward(self, X):\n",
    "        ## Calcule la passe forward\n",
    "        pass\n",
    "\n",
    "    def update_parameters(self, gradient_step=1e-3):\n",
    "        ## Calcule la mise a jour des parametres selon le gradient calcule et le pas de gradient_step\n",
    "        self._parameters -= gradient_step*self._gradient\n",
    "\n",
    "    def backward_update_gradient(self, input, delta):\n",
    "        ## Met a jour la valeur du gradient\n",
    "        pass\n",
    "\n",
    "    def backward_delta(self, input, delta):\n",
    "        ## Calcul la derivee de l'erreur\n",
    "        pass"
   ]
  },
  {
   "cell_type": "markdown",
   "id": "881f5f46-12a4-4b23-8311-0916f24d41aa",
   "metadata": {},
   "source": [
    "# TRANSFORMATIONS"
   ]
  },
  {
   "cell_type": "code",
   "execution_count": 517,
   "id": "acfa5361-4241-4e13-ab35-eddfcad167bc",
   "metadata": {},
   "outputs": [],
   "source": [
    "class TanH(Module):\n",
    "    def __init__(self):\n",
    "        super().__init__()\n",
    "        \n",
    "    def forward(self, X):\n",
    "        return np.tanh(X) # transformation\n",
    "    \n",
    "    def backward_update_gradient(self, X, delta=1):\n",
    "        return (1 - self.forward(X)**2) * delta # d'après la dérivée en fonction de X de tanh(X), delta joue le rôle de constante.\n",
    "    \n",
    "    def update_parameters(self, gradient_step=1e-3):\n",
    "        pass # nous n'avons pas de paramètre dans ce modèle"
   ]
  },
  {
   "cell_type": "code",
   "execution_count": 518,
   "id": "da931ecf-394b-4e59-b809-6a75e71aa767",
   "metadata": {},
   "outputs": [],
   "source": [
    "def sigmoide(X):\n",
    "    return 1/(1+np.exp(-X)) # sigmoide n'existe pas dans NumPy, nous l'implémentons ici.\n",
    "\n",
    "class Sigmoide(Module):\n",
    "    def __init__(self):\n",
    "        super().__init__()\n",
    "        \n",
    "    def forward(self, X):\n",
    "        return sigmoide(X)\n",
    "    \n",
    "    def backward_update_gradient(self, X, delta=1):\n",
    "        return (np.exp(-X) * sigmoide(X) / (1+np.exp(-X))) * delta # d'après la dérivée en fonction de X de sigmoide(X) (avec une constante lambda de 1), delta joue le rôle de constante.\n",
    "    \n",
    "    def update_parameters(self, gradient_step=1e-3):\n",
    "        pass # nous n'avons pas de paramètre dans ce modèle"
   ]
  },
  {
   "cell_type": "code",
   "execution_count": 519,
   "id": "1ddb61c2-c118-4faa-b3dc-09119d1632f3",
   "metadata": {},
   "outputs": [],
   "source": [
    "class Softmax(Module):\n",
    "    def __init__(self):\n",
    "        super().__init__(self)\n",
    "        \n",
    "    def forward(self, Z):\n",
    "        e = np.exp(Z)\n",
    "        return e / np.sum(e, axis=1)\n",
    "    \n",
    "    def backward_delta(self, Z, delta=1): # Jacobian of Softmax function\n",
    "        forw = self.forward(Z)\n",
    "        return forw * (1-forw) * delta\n",
    "    \n",
    "    def update_parameters(self, gradient_step=1e-3):\n",
    "        pass # nous n'avons pas de paramètre dans ce modèle"
   ]
  },
  {
   "cell_type": "markdown",
   "id": "1a1f8b9f-f597-48ea-a3d5-d8cd9e5d2d92",
   "metadata": {},
   "source": [
    "# DONNÉES"
   ]
  },
  {
   "cell_type": "markdown",
   "id": "10876487-a8f0-4131-8303-e7dae3d0d97a",
   "metadata": {},
   "source": [
    "### Tools"
   ]
  },
  {
   "cell_type": "code",
   "execution_count": 668,
   "id": "7ef64620-660c-46ae-99a9-7196128c13bc",
   "metadata": {},
   "outputs": [],
   "source": [
    "def normalize(vector): # takes a vector of numbers and return a normalized vector between 0 and 1 (both included)\n",
    "    return ((vector - np.min(vector))/(np.max(vector)-np.min(vector))).astype(float)\n",
    "\n",
    "def onehot(vector): # transforms vector in onehot (normalized)\n",
    "    cpt = 0\n",
    "    values = np.unique(vector)\n",
    "    onehot = np.zeros(vector.shape)\n",
    "    for v in values[1:]:\n",
    "        cpt += 1\n",
    "        onehot[vector==v] = float(cpt)\n",
    "    return onehot/cpt"
   ]
  },
  {
   "cell_type": "markdown",
   "id": "ed3668d8-b713-49e6-9adb-9ebfee8bdbff",
   "metadata": {},
   "source": [
    "## RÉGRESSION"
   ]
  },
  {
   "cell_type": "code",
   "execution_count": 669,
   "id": "34d907c9-45db-4040-b6ad-ca97f92125fa",
   "metadata": {},
   "outputs": [
    {
     "name": "stdout",
     "output_type": "stream",
     "text": [
      "Raw example\n",
      "[19 'female' 27.9 0 'yes' 'southwest' 16884.924]\n",
      "\n",
      "10 first ages before normalization\n",
      "[19 18 28 33 32 31 46 37 37 60]\n",
      "\n",
      "10 first ages after normalization\n",
      "[0.021739130434782608 0.0 0.21739130434782608 0.32608695652173914\n",
      " 0.30434782608695654 0.2826086956521739 0.6086956521739131\n",
      " 0.41304347826086957 0.41304347826086957 0.9130434782608695]\n",
      "\n",
      "10 first sexes before onehot processing :\n",
      "['female' 'male' 'male' 'male' 'male' 'female' 'female' 'female' 'male'\n",
      " 'female']\n",
      "\n",
      "10 first sexes after onehot processing :\n",
      "[0.0 1.0 1.0 1.0 1.0 0.0 0.0 0.0 1.0 0.0]\n",
      "\n",
      "10 first CMIs before normalization\n",
      "[27.9 33.77 33.0 22.705 28.88 25.74 33.44 27.74 29.83 25.84]\n",
      "\n",
      "10 first CMIs after normalization\n",
      "[0.3212267958030669 0.479149852031208 0.4584342211460855\n",
      " 0.18146354587032545 0.3475921442023136 0.26311541565778845\n",
      " 0.47027172450901256 0.3169222491256389 0.37315039009954254\n",
      " 0.265805757331181]\n",
      "\n",
      "10 first children numbers before normalization\n",
      "[0 1 3 0 0 0 1 3 2 0]\n",
      "\n",
      "10 first children numbers after normalization\n",
      "[0.0 0.2 0.6 0.0 0.0 0.0 0.2 0.6 0.4 0.0]\n",
      "\n",
      "10 first smoking habits before onehot processing :\n",
      "['yes' 'no' 'no' 'no' 'no' 'no' 'no' 'no' 'no' 'no']\n",
      "\n",
      "10 first smoking habits after onehot processing :\n",
      "[1.0 0.0 0.0 0.0 0.0 0.0 0.0 0.0 0.0 0.0]\n",
      "\n",
      "10 first regions of living before encoding :\n",
      "['southwest' 'southeast' 'southeast' 'northwest' 'northwest' 'southeast'\n",
      " 'southeast' 'northwest' 'northeast' 'northwest']\n",
      "\n",
      "10 first regions of living after encoding :\n",
      "[1.0 0.6666666666666666 0.6666666666666666 0.3333333333333333\n",
      " 0.3333333333333333 0.6666666666666666 0.6666666666666666\n",
      " 0.3333333333333333 0.0 0.3333333333333333]\n",
      "\n",
      "10 first medical costs before normalization :\n",
      "[16884.924 1725.5523 4449.462 21984.47061 3866.8552 3756.6216 8240.5896\n",
      " 7281.5056 6406.4107 28923.13692]\n",
      "\n",
      "10 first medical costs after normalization :\n",
      "[0.25161075660777127 0.009635951037912947 0.05311516199012881\n",
      " 0.3330100272285438 0.04381555710256758 0.042056001729486675\n",
      " 0.11362936944244184 0.09832041277736042 0.08435209519315114\n",
      " 0.44376543744626257]\n"
     ]
    }
   ],
   "source": [
    "reg = pd.read_csv(\"datasets/insurance.csv\").to_numpy()\n",
    "\n",
    "print(\"Raw example\")\n",
    "print(reg[0])\n",
    "\n",
    "# NORMALIZATION OF AGES\n",
    "print(\"\\n10 first ages before normalization\")\n",
    "print(reg[:10,0])\n",
    "reg[:,0] = normalize(reg[:,0])\n",
    "print(\"\\n10 first ages after normalization\")\n",
    "print(reg[:10,0])\n",
    "\n",
    "# ONE HOT SEXES\n",
    "print(\"\\n10 first sexes before onehot processing :\")\n",
    "print(reg[:10,1])\n",
    "reg[:,1] = onehot(reg[:,1])\n",
    "print(\"\\n10 first sexes after onehot processing :\")\n",
    "print(reg[:10,1])\n",
    "\n",
    "# CMI NORMALIZATION\n",
    "print(\"\\n10 first CMIs before normalization\")\n",
    "print(reg[:10,2])\n",
    "reg[:,2] = normalize(reg[:,2])\n",
    "print(\"\\n10 first CMIs after normalization\")\n",
    "print(reg[:10,2])\n",
    "\n",
    "# CHILDREN NUMBER NORM\n",
    "print(\"\\n10 first children numbers before normalization\")\n",
    "print(reg[:10,3])\n",
    "reg[:,3] = normalize(reg[:,3])\n",
    "print(\"\\n10 first children numbers after normalization\")\n",
    "print(reg[:10,3])\n",
    "\n",
    "# ONE HOT SMOKERS\n",
    "print(\"\\n10 first smoking habits before onehot processing :\")\n",
    "print(reg[:10,4])\n",
    "reg[:,4] = onehot(reg[:,4])\n",
    "print(\"\\n10 first smoking habits after onehot processing :\")\n",
    "print(reg[:10,4])\n",
    "\n",
    "# ENCODING REGION OF LIVING\n",
    "print(\"\\n10 first regions of living before encoding :\")\n",
    "print(reg[:10,5])\n",
    "reg[:,5] = onehot(reg[:,5])\n",
    "print(\"\\n10 first regions of living after encoding :\")\n",
    "print(reg[:10,5])\n",
    "\n",
    "# MEDICAL COSTS (VALUES TO PREDICT)\n",
    "print(\"\\n10 first medical costs before normalization :\")\n",
    "print(reg[:10,6])\n",
    "reg[:,6] = normalize(reg[:,6])\n",
    "print(\"\\n10 first medical costs after normalization :\")\n",
    "print(reg[:10,6])"
   ]
  },
  {
   "cell_type": "markdown",
   "id": "4db637f1-c50b-4aaf-99ec-6fedeb2bd07e",
   "metadata": {},
   "source": [
    "## CLASSIFICATION"
   ]
  },
  {
   "cell_type": "markdown",
   "id": "900848b8-ad68-4954-a4e6-47ed6a699312",
   "metadata": {},
   "source": [
    "### CLASSFICATION BINAIRE"
   ]
  },
  {
   "cell_type": "code",
   "execution_count": 701,
   "id": "633f3ccf-433d-48b9-95b2-765b9342ec4e",
   "metadata": {},
   "outputs": [],
   "source": [
    "bincl = pd.read_csv(\"datasets/breast-cancer.csv\").to_numpy()\n",
    "bincl = bincl[:,1:] # we don't need ids in our dataset\n",
    "\n",
    "bincl[:,0] = onehot(bincl[:,0]).astype(int)\n",
    "for column in range(1,bincl[0,:].size):\n",
    "    bincl[:,column] = normalize(bincl[:,column])"
   ]
  },
  {
   "cell_type": "markdown",
   "id": "ab53cfdc-a70b-4d57-8a5b-281a97eec7b8",
   "metadata": {},
   "source": [
    "# LOSS FUNCTIONS"
   ]
  },
  {
   "cell_type": "code",
   "execution_count": 702,
   "id": "f119726b-6d55-47f9-b640-39326c19a3d6",
   "metadata": {},
   "outputs": [],
   "source": [
    "class MSE(Loss):\n",
    "    def forward(self, y, yhat):\n",
    "        # return np.linalg.norm((y - yhat).astype(float), axis=1)**2 # axis=1 to have batch vectors\n",
    "        return np.trace((y - yhat).T @ (y - yhat))\n",
    "    \n",
    "    def backward(self, y, yhat):\n",
    "        return -2 * (y - yhat) # taille batch*d, gradient de la MSE en fonction des yhat."
   ]
  },
  {
   "cell_type": "code",
   "execution_count": 703,
   "id": "7b5f6b96-6a6e-4369-bfb9-40a0e14093b9",
   "metadata": {},
   "outputs": [],
   "source": [
    "class CE(Loss):\n",
    "    def forward(self, y, yhat): # y and yhat are matrix\n",
    "        return -np.sum(y*np.log(yhat), axis=1)\n",
    "    \n",
    "    def backward(self, y, yhat):\n",
    "        return -y/yhat"
   ]
  },
  {
   "cell_type": "code",
   "execution_count": 704,
   "id": "91f821c3-9c1a-4abc-ad04-9e30b6fc7191",
   "metadata": {},
   "outputs": [],
   "source": [
    "class BCE(CE):\n",
    "    def forward(self, y, yhat):\n",
    "        return CE.forward(y,yhat)\n",
    "    \n",
    "    def backward(self, y, yhat):\n",
    "        return y/yhat + (1-y)/(1-yhat)"
   ]
  },
  {
   "cell_type": "code",
   "execution_count": 705,
   "id": "12ac2646-5122-40a7-ae99-1535ba440bb7",
   "metadata": {},
   "outputs": [],
   "source": [
    "class KLDivergence(Loss):\n",
    "    def forward(self, y, yhat):\n",
    "        return -np.sum(y*np.log(yhat/y), axis=1)\n",
    "    \n",
    "    def backward(self, y, yhat):\n",
    "        return -y/yhat"
   ]
  },
  {
   "cell_type": "markdown",
   "id": "f585f0d9-9f94-4e55-913e-a758dad4594c",
   "metadata": {},
   "source": [
    "Since $\\dfrac{\\partial}{\\partial x} log \\displaystyle{\\sum^{K}_{i=1}} e^{x_i} = 0$ (right member of the logSoftmax Cross-entropy), then we have :"
   ]
  },
  {
   "cell_type": "code",
   "execution_count": 706,
   "id": "3c91357c-321f-41ec-b7d2-90e50ad2bde8",
   "metadata": {},
   "outputs": [],
   "source": [
    "class CElogSoftMax(CE):\n",
    "    def forward(self, y, yhat):\n",
    "        return CE.forward(y, np.log(Softmax.forward(yhat)))\n",
    "    \n",
    "    def backward(self, y, yhat):\n",
    "        return CE.backward_delta(y, yhat) # partial derivative of log (sum e^x) on x = 0"
   ]
  },
  {
   "cell_type": "markdown",
   "id": "15f3f688-05fe-4ee0-b788-025d1c47f401",
   "metadata": {},
   "source": [
    "# MODULES"
   ]
  },
  {
   "cell_type": "code",
   "execution_count": 707,
   "id": "e911ef8f-3311-486f-b0cb-ac0e3125a7a4",
   "metadata": {},
   "outputs": [],
   "source": [
    "class Linear(Module):\n",
    "    def __init__(self, input, output):\n",
    "        super().__init__()\n",
    "        self.input = input\n",
    "        self.output = output\n",
    "        self._parameters = 2 * (np.random.rand(self.input, self.output) - 0.5) # (batch*input @ input*output) -> (batch*output) pour forward pass\n",
    "        self._gradient = np.zeros(self._parameters.shape)\n",
    "    \n",
    "    def zero_grad(self): # reinitialise à 0 le gradient\n",
    "        self._gradient = np.zeros(self._parameters.shape)\n",
    "    \n",
    "    def forward(self, X): # X.shape = batch*input\n",
    "        return X @ self._parameters # sans biais\n",
    "        \n",
    "    def backward_update_gradient(self, X, delta):\n",
    "        self._gradient += X.T @ delta\n",
    "        \n",
    "    def backward_delta(self, X, delta):\n",
    "        return delta @ self._parameters.T"
   ]
  },
  {
   "cell_type": "markdown",
   "id": "cf83b7ff-eabf-4df5-a2ad-54342631ca27",
   "metadata": {},
   "source": [
    "## TESTS MODULE LINÉAIRE"
   ]
  },
  {
   "cell_type": "code",
   "execution_count": 708,
   "id": "3db63fa4-6a91-4a78-bfff-5cefa672b32c",
   "metadata": {},
   "outputs": [],
   "source": [
    "# MODULE DE RÉGRESSION LINÉAIRE\n",
    "\n",
    "epochs=500\n",
    "gradient_step=1e-4\n",
    "\n",
    "class LinearRegression:\n",
    "    \n",
    "    def __init__(self, nn, loss):\n",
    "        self.nn = nn\n",
    "        self.loss = loss\n",
    "    \n",
    "    def fit(self, X, y, epochs=epochs, gradient_step=gradient_step):\n",
    "        \n",
    "        X = X.astype(float)\n",
    "        y = y.astype(float)\n",
    "        losses = []\n",
    "\n",
    "        for i in range(epochs):\n",
    "            # Forward pass\n",
    "            yhat = self.nn.forward(X) # yhat = z^k = M^k(z^k-1, W^k)\n",
    "            losses.append(self.loss.forward(y,yhat))\n",
    "\n",
    "            # Backward pass\n",
    "            last_delta = self.loss.backward(y, yhat) # delta de la dernière couche\n",
    "            self.nn.backward_update_gradient(X, last_delta)\n",
    "            self.nn.update_parameters(gradient_step=gradient_step)\n",
    "            self.nn.zero_grad()\n",
    "            \n",
    "        return losses\n",
    "    \n",
    "    def predict(self, X):\n",
    "        return self.nn.forward(X)\n",
    "    \n",
    "    def score(self, y, yhat):\n",
    "        return self.loss.forward(y, yhat)"
   ]
  },
  {
   "cell_type": "markdown",
   "id": "287dce02-c02e-45c8-b828-508570ccf5bc",
   "metadata": {},
   "source": [
    "### TESTS RÉGRESSION LINÉAIRE"
   ]
  },
  {
   "cell_type": "code",
   "execution_count": 723,
   "id": "3b4885d3-bf6b-4720-957e-0c2120b0a5d7",
   "metadata": {},
   "outputs": [],
   "source": [
    "# INITIALISATION DES DONNÉES, DU RÉSEAU DE NEURONES ET DE LA LOSS FUNCTION\n",
    "y = reg[:,-1]\n",
    "X = reg[:,:-1]\n",
    "\n",
    "X_train, X_test, y_train, y_test = train_test_split(X, y, test_size=0.2, random_state=42)\n",
    "\n",
    "if len(y_train.shape)==1:\n",
    "    y_train = y_train.reshape(-1,1)\n",
    "    y_test = y_test.reshape(-1,1)"
   ]
  },
  {
   "cell_type": "code",
   "execution_count": 724,
   "id": "ce3fe152-3a17-4045-94db-202c942cb1e1",
   "metadata": {},
   "outputs": [],
   "source": [
    "nn = Linear(X_train.shape[1],y_train.shape[1])\n",
    "loss = MSE()\n",
    "\n",
    "epochs=200\n",
    "gradient_step=1e-4"
   ]
  },
  {
   "cell_type": "code",
   "execution_count": 725,
   "id": "e5acba62-9fec-4014-bbe7-cedb9c5c1c1a",
   "metadata": {},
   "outputs": [
    {
     "name": "stdout",
     "output_type": "stream",
     "text": [
      "2.7766445560245208\n"
     ]
    }
   ],
   "source": [
    "lr = LinearRegression(nn, loss)\n",
    "losses = lr.fit(X_train,y_train, epochs=epochs, gradient_step=gradient_step)\n",
    "yhat = lr.predict(X_test)\n",
    "print(lr.score(y_test, yhat))"
   ]
  },
  {
   "cell_type": "code",
   "execution_count": 726,
   "id": "13809be3-1e1a-4182-ac76-942754630ec6",
   "metadata": {},
   "outputs": [
    {
     "data": {
      "image/png": "[encoded data removed]",
      "text/plain": [
       "<Figure size 432x288 with 1 Axes>"
      ]
     },
     "metadata": {
      "needs_background": "light"
     },
     "output_type": "display_data"
    }
   ],
   "source": [
    "plt.plot(list(range(epochs)), losses)\n",
    "plt.show()"
   ]
  },
  {
   "cell_type": "markdown",
   "id": "342f24d5-4862-4fa8-823e-7611814b2cfd",
   "metadata": {},
   "source": [
    "### TESTS CLASSIFICATION BINAIRE"
   ]
  },
  {
   "cell_type": "code",
   "execution_count": 772,
   "id": "fb20f26d-2c31-4be3-b6c4-4cbecffd1730",
   "metadata": {},
   "outputs": [],
   "source": [
    "# INITIALISATION DES DONNÉES, DU RÉSEAU DE NEURONES ET DE LA LOSS FUNCTION\n",
    "y = bincl[:,0]\n",
    "X = bincl[:,1:]\n",
    "\n",
    "X_train, X_test, y_train, y_test = train_test_split(X, y, test_size=0.2, random_state=42)\n",
    "\n",
    "if len(y_train.shape)==1:\n",
    "    y_train = y_train.reshape(-1,1)\n",
    "    y_test = y_test.reshape(-1,1)"
   ]
  },
  {
   "cell_type": "code",
   "execution_count": 773,
   "id": "ec8d0ca1-11f9-41b2-b1f1-bed97389dc01",
   "metadata": {},
   "outputs": [],
   "source": [
    "nn = Linear(X_train.shape[1],y_train.shape[1])\n",
    "loss = MSE()\n",
    "\n",
    "epochs=1000\n",
    "gradient_step=1e-4"
   ]
  },
  {
   "cell_type": "code",
   "execution_count": 774,
   "id": "02901566-70b8-44a3-8796-60813dc0a59c",
   "metadata": {},
   "outputs": [
    {
     "name": "stdout",
     "output_type": "stream",
     "text": [
      "5\n"
     ]
    }
   ],
   "source": [
    "lr = LinearRegression(nn, loss)\n",
    "losses = lr.fit(X_train,y_train, epochs=epochs, gradient_step=gradient_step)\n",
    "yhat = lr.predict(X_test).reshape(y_test.shape)\n",
    "yhat = np.where(yhat>=0.5, 1, 0)\n",
    "print(lr.score(y_test, yhat))"
   ]
  },
  {
   "cell_type": "code",
   "execution_count": 775,
   "id": "82121b03-9b61-4800-857f-fcb162914565",
   "metadata": {},
   "outputs": [
    {
     "data": {
      "image/png": "[encoded data removed]",
      "text/plain": [
       "<Figure size 432x288 with 1 Axes>"
      ]
     },
     "metadata": {
      "needs_background": "light"
     },
     "output_type": "display_data"
    }
   ],
   "source": [
    "plt.plot(list(range(epochs)), losses)\n",
    "plt.show()"
   ]
  },
  {
   "cell_type": "code",
   "execution_count": 776,
   "id": "f7bba907-f950-4d3c-8fe9-82e073eaa116",
   "metadata": {},
   "outputs": [
    {
     "name": "stdout",
     "output_type": "stream",
     "text": [
      "0.956140350877193\n"
     ]
    }
   ],
   "source": [
    "score = (np.where(y_test - yhat == 0, 1, 0).sum()) / y_test.size\n",
    "print(score)"
   ]
  },
  {
   "cell_type": "markdown",
   "id": "0122bd16-9f18-4bd6-a3ad-69bc4aa415e9",
   "metadata": {},
   "source": [
    "## TESTS MODULE NON LINÉAIRE"
   ]
  },
  {
   "cell_type": "markdown",
   "id": "e4d58a95-9806-45b9-8452-5ad027eda815",
   "metadata": {},
   "source": [
    "### TWO LAYERS NETWORK IMPLEMENTATION"
   ]
  },
  {
   "cell_type": "code",
   "execution_count": null,
   "id": "c0a7137f-aeb4-4a80-9a81-2031981a3554",
   "metadata": {},
   "outputs": [],
   "source": [
    "layer1 = LinearRegression(Linear())"
   ]
  }
 ],
 "metadata": {
  "kernelspec": {
   "display_name": "Python 3",
   "language": "python",
   "name": "python3"
  },
  "language_info": {
   "codemirror_mode": {
    "name": "ipython",
    "version": 3
   },
   "file_extension": ".py",
   "mimetype": "text/x-python",
   "name": "python",
   "nbconvert_exporter": "python",
   "pygments_lexer": "ipython3",
   "version": "3.9.13"
  }
 },
 "nbformat": 4,
 "nbformat_minor": 5
}
